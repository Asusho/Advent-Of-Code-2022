{
 "cells": [
  {
   "attachments": {},
   "cell_type": "markdown",
   "metadata": {},
   "source": [
    "<h1> <center>Advent of Code 2022</center></h1>\n",
    "<h3><center> --- Day 8 : Treetop Tree House --- </center></h3>"
   ]
  },
  {
   "attachments": {},
   "cell_type": "markdown",
   "metadata": {},
   "source": [
    "Challenge link : [https://adventofcode.com/2022/day/8](https://adventofcode.com/2022/day/8)."
   ]
  },
  {
   "attachments": {},
   "cell_type": "markdown",
   "metadata": {},
   "source": [
    "> The expedition comes across a peculiar patch of tall trees all planted carefully in a grid. The Elves explain that a previous expedition planted these trees as a reforestation effort. Now, they're curious if this would be a good location for a tree house.\n",
    "> \n",
    "> First, determine whether there is enough tree cover here to keep a tree house hidden. To do this, you need to count the number of trees that are visible from outside the grid when looking directly along a row or column.\n",
    "> \n",
    "> The Elves have already launched a quadcopter to generate a map with the height of each tree (your puzzle input). For example:\n",
    ">\n",
    "> ```\n",
    "> 30373\n",
    "> 25512\n",
    "> 65332\n",
    "> 33549\n",
    "> 35390\n",
    "> ```\n",
    "> \n",
    "> Each tree is represented as a single digit whose value is its height, where 0 is the shortest and 9 is the tallest.\n",
    "> \n",
    "> A tree is visible if all of the other trees between it and an edge of the grid are shorter than it. Only consider trees in the same row or column; that is, only look up, down, left, or right from any given tree.\n",
    "> \n",
    "> All of the trees around the edge of the grid are visible - since they are already on the edge, there are no trees to block the view. In this example, that only leaves the interior nine trees to consider:\n",
    "> \n",
    "> - The top-left 5 is visible from the left and top. (It isn't visible from the right or bottom since other trees of height 5 are in the way.)\n",
    "> - The top-middle 5 is visible from the top and right.\n",
    "> - The top-right 1 is not visible from any direction; for it to be visible, there would need to only be trees of height 0 between it and an edge.\n",
    "> - The left-middle 5 is visible, but only from the right.\n",
    "> - The center 3 is not visible from any direction; for it to be visible, there would need to be only trees of at most height 2 between it and an edge.\n",
    "> - The right-middle 3 is visible from the right.\n",
    "> - In the bottom row, the middle 5 is visible, but the 3 and 4 are not.\n",
    "> With 16 trees visible on the edge and another 5 visible in the interior, a total of 21 trees are visible in this arrangement.\n",
    "> \n",
    "> <span style=\"color: hsl(15, 100%, 72%); font-weight:bold;\">Consider your map; how many trees are visible from outside the grid?</span>"
   ]
  }
 ],
 "metadata": {
  "kernelspec": {
   "display_name": "Python 3.9.13 ('base')",
   "language": "python",
   "name": "python3"
  },
  "language_info": {
   "codemirror_mode": {
    "name": "ipython",
    "version": 3
   },
   "file_extension": ".py",
   "mimetype": "text/x-python",
   "name": "python",
   "nbconvert_exporter": "python",
   "pygments_lexer": "ipython3",
   "version": "3.9.13 (main, Aug 25 2022, 23:51:50) [MSC v.1916 64 bit (AMD64)]"
  },
  "orig_nbformat": 4,
  "vscode": {
   "interpreter": {
    "hash": "ad2bdc8ecc057115af97d19610ffacc2b4e99fae6737bb82f5d7fb13d2f2c186"
   }
  }
 },
 "nbformat": 4,
 "nbformat_minor": 2
}
