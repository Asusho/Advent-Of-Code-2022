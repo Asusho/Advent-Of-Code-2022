{
 "cells": [
  {
   "attachments": {},
   "cell_type": "markdown",
   "metadata": {},
   "source": [
    "<h1> <center>Advent of Code 2022</center></h1>\n",
    "<h3><center> --- Day 8 : Treetop Tree House --- </center></h3>"
   ]
  },
  {
   "attachments": {},
   "cell_type": "markdown",
   "metadata": {},
   "source": [
    "Challenge link : [https://adventofcode.com/2022/day/8](https://adventofcode.com/2022/day/8)."
   ]
  },
  {
   "attachments": {},
   "cell_type": "markdown",
   "metadata": {},
   "source": [
    "> The expedition comes across a peculiar patch of tall trees all planted carefully in a grid. The Elves explain that a previous expedition planted these trees as a reforestation effort. Now, they're curious if this would be a good location for a tree house.\n",
    "> \n",
    "> First, determine whether there is enough tree cover here to keep a tree house hidden. To do this, you need to count the number of trees that are visible from outside the grid when looking directly along a row or column.\n",
    "> \n",
    "> The Elves have already launched a quadcopter to generate a map with the height of each tree (your puzzle input). For example:\n",
    ">\n",
    "> ```\n",
    "> 30373\n",
    "> 25512\n",
    "> 65332\n",
    "> 33549\n",
    "> 35390\n",
    "> ```\n",
    "> \n",
    "> Each tree is represented as a single digit whose value is its height, where 0 is the shortest and 9 is the tallest.\n",
    "> \n",
    "> A tree is visible if all of the other trees between it and an edge of the grid are shorter than it. Only consider trees in the same row or column; that is, only look up, down, left, or right from any given tree.\n",
    "> \n",
    "> All of the trees around the edge of the grid are visible - since they are already on the edge, there are no trees to block the view. In this example, that only leaves the interior nine trees to consider:\n",
    "> \n",
    "> - The top-left 5 is visible from the left and top. (It isn't visible from the right or bottom since other trees of height 5 are in the way.)\n",
    "> - The top-middle 5 is visible from the top and right.\n",
    "> - The top-right 1 is not visible from any direction; for it to be visible, there would need to only be trees of height 0 between it and an edge.\n",
    "> - The left-middle 5 is visible, but only from the right.\n",
    "> - The center 3 is not visible from any direction; for it to be visible, there would need to be only trees of at most height 2 between it and an edge.\n",
    "> - The right-middle 3 is visible from the right.\n",
    "> - In the bottom row, the middle 5 is visible, but the 3 and 4 are not.\n",
    "> With 16 trees visible on the edge and another 5 visible in the interior, a total of 21 trees are visible in this arrangement.\n",
    "> \n",
    "> <span style=\"color: hsl(15, 100%, 72%); font-weight:bold;\">Consider your map; how many trees are visible from outside the grid?</span>"
   ]
  },
  {
   "cell_type": "code",
   "execution_count": 47,
   "metadata": {},
   "outputs": [],
   "source": [
    "import numpy as np"
   ]
  },
  {
   "cell_type": "code",
   "execution_count": 48,
   "metadata": {},
   "outputs": [
    {
     "name": "stdout",
     "output_type": "stream",
     "text": [
      "[[1 1 0 ... 0 1 0]\n",
      " [1 0 2 ... 1 1 2]\n",
      " [2 1 0 ... 0 0 2]\n",
      " ...\n",
      " [0 0 2 ... 1 0 2]\n",
      " [2 1 0 ... 0 0 0]\n",
      " [2 2 0 ... 0 0 1]]\n"
     ]
    }
   ],
   "source": [
    "map_data = [[int(tree) for tree in list(line)] for line in open('data.txt').read().split('\\n')]\n",
    "\n",
    "map_data = np.array(map_data)\n",
    "print(map_data)"
   ]
  },
  {
   "cell_type": "code",
   "execution_count": 49,
   "metadata": {},
   "outputs": [
    {
     "name": "stdout",
     "output_type": "stream",
     "text": [
      "1851\n"
     ]
    }
   ],
   "source": [
    "visibleTreeCount = 4*(len(map_data)-1)\n",
    "\n",
    "for i in range(1,len(map_data)-1):\n",
    "    for j in range(1,len(map_data[i])-1):\n",
    "        if(max(map_data[i,:j])<map_data[i,j] or \n",
    "        max(map_data[i,j+1:])<map_data[i,j] or \n",
    "        max(map_data[i+1:,j])<map_data[i,j] or \n",
    "        max(map_data[:i,j])<map_data[i,j]):\n",
    "            visibleTreeCount+=1\n",
    "print(visibleTreeCount)"
   ]
  },
  {
   "attachments": {},
   "cell_type": "markdown",
   "metadata": {},
   "source": [
    "> --- Part Two ---\n",
    "> \n",
    "> Content with the amount of tree cover available, the Elves just need to know the best spot to build their tree house: they would like to be able to see a lot of trees.\n",
    "> \n",
    "> To measure the viewing distance from a given tree, look up, down, left, and right from that tree; stop if you reach an edge or at the first tree that is the same height or taller than the tree under consideration. (If a tree is right on the edge, at least one of its viewing distances will be zero.)\n",
    "> \n",
    "> The Elves don't care about distant trees taller than those found by the rules above; the proposed tree house has large eaves to keep it dry, so they wouldn't be able to see higher than the tree house anyway.\n",
    "> \n",
    "> In the example above, consider the middle 5 in the second row:\n",
    ">\n",
    "> ```\n",
    "> 30373\n",
    "> 25512\n",
    "> 65332\n",
    "> 33549\n",
    "> 35390\n",
    "> ```\n",
    "> \n",
    "> - Looking up, its view is not blocked; it can see 1 tree (of height 3).\n",
    "> - Looking left, its view is blocked immediately; it can see only 1 tree (of height 5, right next to it).\n",
    "> - Looking right, its view is not blocked; it can see 2 trees.\n",
    "> - Looking down, its view is blocked eventually; it can see 2 trees (one of height 3, then the tree of height 5 that blocks its view).\n",
    "> \n",
    "> A tree's scenic score is found by multiplying together its viewing distance in each of the four directions. For this tree, this is 4 (found by multiplying 1 * 1 * 2 * 2).\n",
    "> \n",
    "> However, you can do even better: consider the tree of height 5 in the middle of the fourth row:\n",
    ">\n",
    "> ```\n",
    "> 30373\n",
    "> 25512\n",
    "> 65332\n",
    "> 33549\n",
    "> 35390\n",
    ">```\n",
    "> \n",
    "> - Looking up, its view is blocked at 2 trees (by another tree with a height of 5).\n",
    "> - Looking left, its view is not blocked; it can see 2 trees.\n",
    "> - Looking down, its view is also not blocked; it can see 1 tree.\n",
    "> - Looking right, its view is blocked at 2 trees (by a massive tree of height 9).\n",
    "> \n",
    "> This tree's scenic score is 8 (2 * 2 * 1 * 2); this is the ideal spot for the tree house.\n",
    "> \n",
    "> Consider each tree on your map. <span style=\"color: hsl(15, 100%, 72%); font-weight:bold;\">What is the highest scenic score possible for any tree?</span>"
   ]
  },
  {
   "cell_type": "code",
   "execution_count": 51,
   "metadata": {},
   "outputs": [
    {
     "name": "stdout",
     "output_type": "stream",
     "text": [
      "574080\n"
     ]
    }
   ],
   "source": [
    "score = 1\n",
    "maxScore=0\n",
    "\n",
    "for i in range(1,len(map_data)-1):\n",
    "    for j in range(1,len(map_data[i])-1):\n",
    "        cpt1=0\n",
    "        cpt2=0\n",
    "        cpt3=0\n",
    "        cpt4=0\n",
    "\n",
    "        for i1 in range(i-1,-1,-1): # go up\n",
    "            cpt1+=1\n",
    "            if(map_data[i1,j]>=map_data[i,j]):\n",
    "                break\n",
    "\n",
    "        for i2 in range(i+1,len(map_data)): #go down\n",
    "            cpt2+=1\n",
    "            if(map_data[i2,j]>=map_data[i,j]):\n",
    "                break\n",
    "\n",
    "        for j1 in range(j-1,-1,-1): #go left\n",
    "            cpt3+=1\n",
    "            if(map_data[i,j1]>=map_data[i,j]):\n",
    "                break\n",
    "\n",
    "        for j2 in range(j+1,len(map_data[i])): # go right\n",
    "            cpt4+=1\n",
    "            if(map_data[i,j2]>=map_data[i,j]):\n",
    "                break\n",
    "\n",
    "        score = cpt1 * cpt2 * cpt3 * cpt4\n",
    "        \n",
    "        if(score>maxScore):\n",
    "            maxScore=score\n",
    "print(maxScore)"
   ]
  }
 ],
 "metadata": {
  "kernelspec": {
   "display_name": "Python 3.9.13 ('base')",
   "language": "python",
   "name": "python3"
  },
  "language_info": {
   "codemirror_mode": {
    "name": "ipython",
    "version": 3
   },
   "file_extension": ".py",
   "mimetype": "text/x-python",
   "name": "python",
   "nbconvert_exporter": "python",
   "pygments_lexer": "ipython3",
   "version": "3.9.13"
  },
  "orig_nbformat": 4,
  "vscode": {
   "interpreter": {
    "hash": "ad2bdc8ecc057115af97d19610ffacc2b4e99fae6737bb82f5d7fb13d2f2c186"
   }
  }
 },
 "nbformat": 4,
 "nbformat_minor": 2
}
