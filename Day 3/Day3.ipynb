{
 "cells": [
  {
   "cell_type": "markdown",
   "metadata": {},
   "source": [
    "<h1> <center>Advent of Code 2022</center></h1>\n",
    "<h3><center> --- Day 2 : Rucksack Reorganization --- </center></h3>"
   ]
  },
  {
   "cell_type": "markdown",
   "metadata": {},
   "source": [
    "Challenge link : [https://adventofcode.com/2022/day/3](https://adventofcode.com/2022/day/3)."
   ]
  },
  {
   "cell_type": "markdown",
   "metadata": {},
   "source": [
    "> One Elf has the important job of loading all of the rucksacks with supplies for the jungle journey. Unfortunately, that Elf didn't quite follow the packing instructions, and so a few items now need to be rearranged.\n",
    "> \n",
    "> Each rucksack has two large compartments. All items of a given type are meant to go into exactly one of the two compartments. The Elf that did the packing failed to follow this rule for exactly one item type per rucksack.\n",
    "> \n",
    "> The Elves have made a list of all of the items currently in each rucksack (your puzzle input), but they need your help finding the errors. Every item type is identified by a single lowercase or uppercase letter (that is, a and A refer to different types of items).\n",
    "> \n",
    "> The list of items for each rucksack is given as characters all on a single line. A given rucksack always has the same number of items in each of its two compartments, so the first half of the characters represent items in the first compartment, while the second half of the characters represent items in the second compartment.\n",
    "> \n",
    "> For example, suppose you have the following list of contents from six rucksacks:\n",
    "> \n",
    "> ```\n",
    "> vJrwpWtwJgWrhcsFMMfFFhFp\n",
    "> jqHRNqRjqzjGDLGLrsFMfFZSrLrFZsSL\n",
    "> PmmdzqPrVvPwwTWBwg\n",
    "> wMqvLMZHhHMvwLHjbvcjnnSBnvTQFn\n",
    "> ttgJtRGJQctTZtZT\n",
    "> CrZsJsPPZsGzwwsLwLmpwMDw\n",
    "> ```\n",
    "> \n",
    "> - The first rucksack contains the items vJrwpWtwJgWrhcsFMMfFFhFp, which means its first compartment contains the items > vJrwpWtwJgWr, while the second compartment contains the items hcsFMMfFFhFp. The only item type that appears in both > compartments is lowercase p.\n",
    "> - The second rucksack's compartments contain jqHRNqRjqzjGDLGL and rsFMfFZSrLrFZsSL. The only item type that appears in both compartments is uppercase L.\n",
    "> - The third rucksack's compartments contain PmmdzqPrV and vPwwTWBwg; the only common item type is uppercase P.\n",
    "> - The fourth rucksack's compartments only share item type v.\n",
    "> - The fifth rucksack's compartments only share item type t.\n",
    "> - The sixth rucksack's compartments only share item type s.\n",
    "> \n",
    "> To help prioritize item rearrangement, every item type can be converted to a priority:\n",
    "> - Lowercase item types a through z have priorities 1 through 26.\n",
    "> - Uppercase item types A through Z have priorities 27 through 52.\n",
    "> \n",
    "> In the above example, the priority of the item type that appears in both compartments of each rucksack is 16 (p), 38 (L), 42 (P), 22 (v), 20 (t), and 19 (s); the sum of these is 157.\n",
    "> \n",
    "> <span style=\"color: hsl(15, 100%, 72%); font-weight:bold;\">Find the item type that appears in both compartments of each rucksack. What is the sum of the priorities of those item types?</span>"
   ]
  },
  {
   "cell_type": "markdown",
   "metadata": {},
   "source": [
    "Load data "
   ]
  },
  {
   "cell_type": "code",
   "execution_count": 2,
   "metadata": {},
   "outputs": [],
   "source": [
    "data = [item for item in open('data.txt').read().split('\\n')]"
   ]
  },
  {
   "cell_type": "markdown",
   "metadata": {},
   "source": [
    "Find common char"
   ]
  },
  {
   "cell_type": "code",
   "execution_count": 20,
   "metadata": {},
   "outputs": [],
   "source": [
    "common = []\n",
    "\n",
    "for item in data:\n",
    "    compartments = [item[0:len(item)//2], item[len(item)//2:len(item)]]\n",
    "    common.append(list(set(compartments[0])&set(compartments[1]))[0])"
   ]
  },
  {
   "cell_type": "markdown",
   "metadata": {},
   "source": [
    "Create a priority dictionnary"
   ]
  },
  {
   "cell_type": "code",
   "execution_count": 21,
   "metadata": {},
   "outputs": [
    {
     "name": "stdout",
     "output_type": "stream",
     "text": [
      "{'a': 1, 'b': 2, 'c': 3, 'd': 4, 'e': 5, 'f': 6, 'g': 7, 'h': 8, 'i': 9, 'j': 10, 'k': 11, 'l': 12, 'm': 13, 'n': 14, 'o': 15, 'p': 16, 'q': 17, 'r': 18, 's': 19, 't': 20, 'u': 21, 'v': 22, 'w': 23, 'x': 24, 'y': 25, 'z': 26, 'A': 27, 'B': 28, 'C': 29, 'D': 30, 'E': 31, 'F': 32, 'G': 33, 'H': 34, 'I': 35, 'J': 36, 'K': 37, 'L': 38, 'M': 39, 'N': 40, 'O': 41, 'P': 42, 'Q': 43, 'R': 44, 'S': 45, 'T': 46, 'U': 47, 'V': 48, 'W': 49, 'X': 50, 'Y': 51, 'Z': 52}\n"
     ]
    }
   ],
   "source": [
    "import string\n",
    "\n",
    "priority = {}\n",
    "\n",
    "for index, item in enumerate(string.ascii_lowercase):\n",
    "    priority[item] = index +1\n",
    "for index, item in enumerate(string.ascii_uppercase):\n",
    "    priority[item] = index + 27\n",
    "print(priority)"
   ]
  },
  {
   "cell_type": "markdown",
   "metadata": {},
   "source": [
    "Get the sum of all priorities"
   ]
  },
  {
   "cell_type": "code",
   "execution_count": 22,
   "metadata": {},
   "outputs": [
    {
     "name": "stdout",
     "output_type": "stream",
     "text": [
      "7845\n"
     ]
    }
   ],
   "source": [
    "sum = 0\n",
    "for i in common:\n",
    "    sum += priority[i]\n",
    "print(sum)"
   ]
  },
  {
   "cell_type": "markdown",
   "metadata": {},
   "source": [
    "> --- Part Two ---\n",
    "> As you finish identifying the misplaced items, the Elves come to you with another issue.\n",
    "> \n",
    "> For safety, the Elves are divided into groups of three. Every Elf carries a badge that identifies their group. For efficiency, within each group of three Elves, the badge is the only item type carried by all three Elves. That is, if a group's badge is item type B, then all three Elves will have item type B somewhere in their rucksack, and at most two of the Elves will be carrying any other item type.\n",
    "> \n",
    "> The problem is that someone forgot to put this year's updated authenticity sticker on the badges. All of the badges need to be pulled out of the rucksacks so the new authenticity stickers can be attached.\n",
    "> \n",
    "> Additionally, nobody wrote down which item type corresponds to each group's badges. The only way to tell which item type is the right one is by finding the one item type that is common between all three Elves in each group.\n",
    "> \n",
    "> Every set of three lines in your list corresponds to a single group, but each group can have a different badge item type. So, in the above example, the first group's rucksacks are the first three lines:\n",
    "> \n",
    "> ```\n",
    "> vJrwpWtwJgWrhcsFMMfFFhFp\n",
    "> jqHRNqRjqzjGDLGLrsFMfFZSrLrFZsSL\n",
    "> PmmdzqPrVvPwwTWBwg\n",
    "> ```\n",
    "> \n",
    "> And the second group's rucksacks are the next three lines:\n",
    "> \n",
    "> ```\n",
    "> wMqvLMZHhHMvwLHjbvcjnnSBnvTQFn\n",
    "> ttgJtRGJQctTZtZT\n",
    "> CrZsJsPPZsGzwwsLwLmpwMDw\n",
    "> ```\n",
    "> \n",
    "> In the first group, the only item type that appears in all three rucksacks is lowercase r; this must be their badges. In the second group, their badge item type must be Z.\n",
    "> \n",
    "> Priorities for these items must still be found to organize the sticker attachment efforts: here, they are 18 (r) for the first group and 52 (Z) for the second group. The sum of these is 70.\n",
    "> \n",
    "> <span style=\"color: hsl(15, 100%, 72%); font-weight:bold;\">Find the item type that corresponds to the badges of each three-Elf group. What is the sum of the priorities of those item types?</span>"
   ]
  },
  {
   "cell_type": "code",
   "execution_count": 24,
   "metadata": {},
   "outputs": [
    {
     "name": "stdout",
     "output_type": "stream",
     "text": [
      "2790\n"
     ]
    }
   ],
   "source": [
    "common = []\n",
    "\n",
    "for i in range(0, len(data), 3) : \n",
    "    common.append(list(set(data[i])&set(data[i+1])&set(data[i+2]))[0])\n",
    "\n",
    "sum = 0\n",
    "for i in common:\n",
    "    sum += priority[i]\n",
    "print(sum)"
   ]
  }
 ],
 "metadata": {
  "kernelspec": {
   "display_name": "Python 3.9.2 64-bit",
   "language": "python",
   "name": "python3"
  },
  "language_info": {
   "codemirror_mode": {
    "name": "ipython",
    "version": 3
   },
   "file_extension": ".py",
   "mimetype": "text/x-python",
   "name": "python",
   "nbconvert_exporter": "python",
   "pygments_lexer": "ipython3",
   "version": "3.8.2"
  },
  "orig_nbformat": 4,
  "vscode": {
   "interpreter": {
    "hash": "81794d4967e6c3204c66dcd87b604927b115b27c00565d3d43f05ba2f3a2cb0d"
   }
  }
 },
 "nbformat": 4,
 "nbformat_minor": 2
}
