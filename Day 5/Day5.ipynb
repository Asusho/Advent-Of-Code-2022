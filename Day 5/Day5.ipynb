{
 "cells": [
  {
   "cell_type": "markdown",
   "metadata": {},
   "source": [
    "<h1> <center>Advent of Code 2022</center></h1>\n",
    "<h3><center> --- Day 5 : Supply Stacks --- </center></h3>"
   ]
  },
  {
   "cell_type": "markdown",
   "metadata": {},
   "source": [
    "Challenge link : [https://adventofcode.com/2022/day/5](https://adventofcode.com/2022/day/5)."
   ]
  },
  {
   "cell_type": "markdown",
   "metadata": {},
   "source": [
    "> The expedition can depart as soon as the final supplies have been unloaded from the ships. Supplies are stored in stacks of marked crates, but because the needed supplies are buried under many other crates, the crates need to be rearranged.\n",
    "> \n",
    "> The ship has a giant cargo crane capable of moving crates between stacks. To ensure none of the crates get crushed or fall over, the crane operator will rearrange them in a series of carefully-planned steps. After the crates are rearranged, the desired crates will be at the top of each stack.\n",
    "> \n",
    "> The Elves don't want to interrupt the crane operator during this delicate procedure, but they forgot to ask her which crate will end up where, and they want to be ready to unload them as soon as possible so they can embark.\n",
    "> \n",
    "> They do, however, have a drawing of the starting stacks of crates and the rearrangement procedure (your puzzle input). For example:\n",
    "> \n",
    ">```\n",
    ">     [D]    \n",
    "> [N] [C]    \n",
    "> [Z] [M] [P]\n",
    ">  1   2   3 \n",
    "> \n",
    "> move 1 from 2 to 1\n",
    "> move 3 from 1 to 3\n",
    "> move 2 from 2 to 1\n",
    "> move 1 from 1 to 2\n",
    "> ```\n",
    "> \n",
    "> In this example, there are three stacks of crates. Stack 1 contains two crates: crate Z is on the bottom, and crate N is on top. Stack 2 contains three crates; from bottom to top, they are crates M, C, and D. Finally, stack 3 contains a single crate, P.\n",
    "> \n",
    "> Then, the rearrangement procedure is given. In each step of the procedure, a quantity of crates is moved from one stack to a different stack. In the first step of the above rearrangement procedure, one crate is moved from stack 2 to stack 1, resulting in this configuration:\n",
    "> \n",
    ">```\n",
    "> [D]        \n",
    "> [N] [C]    \n",
    "> [Z] [M] [P]\n",
    ">  1   2   3 \n",
    "> ```\n",
    "> In the second step, three crates are moved from stack 1 to stack 3. Crates are moved one at a time, so the first crate to be moved (D) ends up below the second and third crates:\n",
    "> \n",
    ">```\n",
    ">         [Z]\n",
    ">         [N]\n",
    ">     [C] [D]\n",
    ">     [M] [P]\n",
    ">  1   2   3\n",
    "> ```\n",
    "> Then, both crates are moved from stack 2 to stack 1. Again, because crates are moved one at a time, crate C ends up below crate M:\n",
    "> \n",
    ">```\n",
    ">         [Z]\n",
    ">         [N]\n",
    "> [M]     [D]\n",
    "> [C]     [P]\n",
    ">  1   2   3\n",
    "> ```\n",
    "> Finally, one crate is moved from stack 1 to stack 2:\n",
    "> \n",
    ">```\n",
    ">         [Z]\n",
    ">         [N]\n",
    ">         [D]\n",
    "> [C] [M] [P]\n",
    ">  1   2   3\n",
    "> ```\n",
    "> The Elves just need to know which crate will end up on top of each stack; in this example, the top crates are C in stack 1, M in stack 2, and Z in stack 3, so you should combine these together and give the Elves the message CMZ.\n",
    "> \n",
    "> <span style=\"color: hsl(15, 100%, 72%); font-weight:bold;\">After the rearrangement procedure completes, what crate ends up on top of each stack?</span>"
   ]
  },
  {
   "cell_type": "code",
   "execution_count": 119,
   "metadata": {},
   "outputs": [],
   "source": [
    "starting_stacks, procedure = open('data.txt').read().split('\\n\\n')"
   ]
  },
  {
   "cell_type": "markdown",
   "metadata": {},
   "source": [
    "Function to print stacks correctly:"
   ]
  },
  {
   "cell_type": "code",
   "execution_count": 120,
   "metadata": {},
   "outputs": [],
   "source": [
    "def print_stacks(stacks):\n",
    "    lines = []\n",
    "    print(\"STACKS\")\n",
    "    max_size = max(len(stack) for stack in stacks)\n",
    "    for i in range(max_size):\n",
    "        line = []\n",
    "        for stack in stacks:\n",
    "            index = len(stack) - i - 1\n",
    "            if(index>=0):\n",
    "                line.append(stack[index])\n",
    "            else:\n",
    "                line.append(\" \")\n",
    "        lines.append(line)\n",
    "    \n",
    "    \n",
    "    for i in range(len(lines)-1, -1, -1):\n",
    "        for elem in lines[i]:\n",
    "            if(elem==\" \"):\n",
    "                print(\"   \", end='')\n",
    "            else:\n",
    "                print(f'[{elem}]',end='')\n",
    "        print('')"
   ]
  },
  {
   "cell_type": "markdown",
   "metadata": {},
   "source": [
    "Init stacks with the starting stacks:"
   ]
  },
  {
   "cell_type": "code",
   "execution_count": 121,
   "metadata": {},
   "outputs": [
    {
     "name": "stdout",
     "output_type": "stream",
     "text": [
      "STACKS\n",
      "[V]      [T]      [J]      \n",
      "[Q]      [M][P]   [Q]   [J]\n",
      "[W][B]   [N][Q]   [C]   [T]\n",
      "[M][C]   [F][N]   [G][W][G]\n",
      "[B][W][J][H][L]   [R][B][C]\n",
      "[N][R][R][W][W][W][D][N][F]\n",
      "[Z][Z][Q][S][F][P][B][Q][L]\n",
      "[C][H][F][Z][G][L][V][Z][H]\n"
     ]
    }
   ],
   "source": [
    "number_of_stacks = int(starting_stacks.split('\\n')[-1][-2])\n",
    "\n",
    "stacks=[]\n",
    "for i in range(number_of_stacks):\n",
    "    stacks.append([])\n",
    "\n",
    "for line in starting_stacks.split('\\n')[0:-1]:\n",
    "    for index, i in enumerate(range(1, len(line), 4)):\n",
    "        if(line[i]!=\" \"):\n",
    "            stacks[index].append(line[i])\n",
    "\n",
    "print_stacks(stacks)\n",
    "    "
   ]
  },
  {
   "attachments": {},
   "cell_type": "markdown",
   "metadata": {},
   "source": [
    "Load instructions :"
   ]
  },
  {
   "cell_type": "code",
   "execution_count": 122,
   "metadata": {},
   "outputs": [
    {
     "name": "stdout",
     "output_type": "stream",
     "text": [
      "STACKS\n",
      "         [W]               \n",
      "         [W]               \n",
      "         [Q]               \n",
      "         [N]               \n",
      "[Q]      [W]               \n",
      "[R]      [C][J]      [Z]   \n",
      "[F]      [G][Q]      [F]   \n",
      "[W]      [N][J]      [R]   \n",
      "[D]   [H][S][R]      [Z]   \n",
      "[T]   [Z][F][G]      [B]   \n",
      "[C]   [H][Q][L]      [B]   \n",
      "[C]   [C][F][L]      [N][W]\n",
      "[M]   [W][L][P][V][J][Q][G]\n",
      "[M][N][Z][T][B][B][V][H][P]\n"
     ]
    }
   ],
   "source": [
    "import copy\n",
    "part1_stacks = copy.deepcopy(stacks)\n",
    "\n",
    "for line in procedure.split('\\n'):\n",
    "    nb_to_move = int(line.split(\" \")[1])\n",
    "    origin_stack = int(line.split(\" \")[3])\n",
    "    end_stack = int(line.split(\" \")[5])\n",
    "    for i in range(nb_to_move):\n",
    "        part1_stacks[end_stack-1].insert(0,part1_stacks[origin_stack-1].pop(0))\n",
    "\n",
    "print_stacks(part1_stacks)\n"
   ]
  },
  {
   "attachments": {},
   "cell_type": "markdown",
   "metadata": {},
   "source": [
    "Get the answer :"
   ]
  },
  {
   "cell_type": "code",
   "execution_count": 123,
   "metadata": {},
   "outputs": [
    {
     "name": "stdout",
     "output_type": "stream",
     "text": [
      "QNHWJVJZW"
     ]
    }
   ],
   "source": [
    "for stack in part1_stacks:\n",
    "    print(stack[0], end='')"
   ]
  },
  {
   "attachments": {},
   "cell_type": "markdown",
   "metadata": {},
   "source": [
    "> --- Part Two ---\n",
    "> \n",
    "> As you watch the crane operator expertly rearrange the crates, you notice the process isn't following your prediction.\n",
    "> \n",
    "> Some mud was covering the writing on the side of the crane, and you quickly wipe it away. The crane isn't a CrateMover 9000 - it's a CrateMover 9001.\n",
    "> \n",
    "> The CrateMover 9001 is notable for many new and exciting features: air conditioning, leather seats, an extra cup holder, and the ability to pick up and move multiple crates at once.\n",
    "> \n",
    "> Again considering the example above, the crates begin in the same configuration:\n",
    "> \n",
    ">```\n",
    ">     [D]    \n",
    "> [N] [C]    \n",
    "> [Z] [M] [P]\n",
    ">  1   2   3 \n",
    "> ```\n",
    "> \n",
    "> Moving a single crate from stack 2 to stack 1 behaves the same as before:\n",
    ">\n",
    "> ```\n",
    "> [D]        \n",
    "> [N] [C]    \n",
    "> [Z] [M] [P]\n",
    ">  1   2   3 \n",
    "> ```\n",
    "> \n",
    "> However, the action of moving three crates from stack 1 to stack 3 means that those three moved crates stay in the same order, resulting in this new configuration:\n",
    ">\n",
    "> ```\n",
    ">         [D]\n",
    ">         [N]\n",
    ">     [C] [Z]\n",
    ">     [M] [P]\n",
    ">  1   2   3\n",
    "> ```\n",
    "> \n",
    "> Next, as both crates are moved from stack 2 to stack 1, they retain their order as well:\n",
    ">\n",
    "> ```\n",
    ">         [D]\n",
    ">         [N]\n",
    "> [C]     [Z]\n",
    "> [M]     [P]\n",
    ">  1   2   3\n",
    "> ```\n",
    "> \n",
    "> Finally, a single crate is still moved from stack 1 to stack 2, but now it's crate C that gets moved:\n",
    ">\n",
    "> ```\n",
    ">         [D]\n",
    ">         [N]\n",
    ">         [Z]\n",
    "> [M] [C] [P]\n",
    ">  1   2   3\n",
    "> ```\n",
    "> \n",
    "> In this example, the CrateMover 9001 has put the crates in a totally different order: MCD.\n",
    "> \n",
    "> Before the rearrangement process finishes, update your simulation so that the Elves know where they should stand to be ready to unload the final supplies. <span style=\"color: hsl(15, 100%, 72%); font-weight:bold;\">After the rearrangement procedure completes, what crate ends up on top of each stack?</span>"
   ]
  },
  {
   "cell_type": "code",
   "execution_count": 124,
   "metadata": {},
   "outputs": [
    {
     "name": "stdout",
     "output_type": "stream",
     "text": [
      "STACKS\n",
      "         [Z]               \n",
      "         [W]               \n",
      "         [H]               \n",
      "         [W]               \n",
      "[B]      [D]               \n",
      "[Q]      [B][J]      [J]   \n",
      "[Z]      [W][F]      [M]   \n",
      "[Q]      [S][H]      [Q]   \n",
      "[N]   [C][W][Q]      [R]   \n",
      "[N]   [N][G][C]      [Q]   \n",
      "[R]   [C][Z][N]      [H]   \n",
      "[F]   [T][J][T]      [R][W]\n",
      "[M]   [Z][G][W][L][F][P][L]\n",
      "[C][P][L][B][B][F][V][V][G]\n"
     ]
    }
   ],
   "source": [
    "part2_stacks = copy.deepcopy(stacks)\n",
    "\n",
    "for line in procedure.split('\\n'):\n",
    "    nb_to_move = int(line.split(\" \")[1])\n",
    "    origin_stack = int(line.split(\" \")[3])\n",
    "    end_stack = int(line.split(\" \")[5])\n",
    "    \n",
    "    crates = []\n",
    "    for i in range(nb_to_move):\n",
    "        crates.insert(0,part2_stacks[origin_stack-1].pop(0))\n",
    "    \n",
    "    for crate in crates:\n",
    "        part2_stacks[end_stack-1].insert(0, crate)\n",
    "\n",
    "\n",
    "print_stacks(part2_stacks)\n"
   ]
  },
  {
   "attachments": {},
   "cell_type": "markdown",
   "metadata": {},
   "source": [
    "Get the answer :"
   ]
  },
  {
   "cell_type": "code",
   "execution_count": 125,
   "metadata": {},
   "outputs": [
    {
     "name": "stdout",
     "output_type": "stream",
     "text": [
      "BPCZJLFJW"
     ]
    }
   ],
   "source": [
    "for stack in part2_stacks:\n",
    "    print(stack[0], end='')"
   ]
  }
 ],
 "metadata": {
  "kernelspec": {
   "display_name": "Python 3.9.13 ('base')",
   "language": "python",
   "name": "python3"
  },
  "language_info": {
   "codemirror_mode": {
    "name": "ipython",
    "version": 3
   },
   "file_extension": ".py",
   "mimetype": "text/x-python",
   "name": "python",
   "nbconvert_exporter": "python",
   "pygments_lexer": "ipython3",
   "version": "3.9.13"
  },
  "orig_nbformat": 4,
  "vscode": {
   "interpreter": {
    "hash": "ad2bdc8ecc057115af97d19610ffacc2b4e99fae6737bb82f5d7fb13d2f2c186"
   }
  }
 },
 "nbformat": 4,
 "nbformat_minor": 2
}
